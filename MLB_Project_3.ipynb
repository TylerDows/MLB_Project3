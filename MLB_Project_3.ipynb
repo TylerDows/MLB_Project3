{
  "nbformat": 4,
  "nbformat_minor": 0,
  "metadata": {
    "colab": {
      "provenance": []
    },
    "kernelspec": {
      "name": "python3",
      "display_name": "Python 3"
    },
    "language_info": {
      "name": "python"
    }
  },
  "cells": [
    {
      "cell_type": "markdown",
      "source": [
        "## Loading data"
      ],
      "metadata": {
        "id": "0D85rnQ1V6jW"
      }
    },
    {
      "cell_type": "code",
      "execution_count": 3,
      "metadata": {
        "id": "uc2GYRZzKyzh",
        "outputId": "dbce3ddb-e4bd-4c9c-9364-307df898584f",
        "colab": {
          "base_uri": "https://localhost:8080/"
        }
      },
      "outputs": [
        {
          "output_type": "stream",
          "name": "stdout",
          "text": [
            "--2024-11-02 03:01:24--  https://storage.googleapis.com/mledu-datasets/cats_and_dogs_filtered.zip\n",
            "Resolving storage.googleapis.com (storage.googleapis.com)... 172.253.117.207, 173.194.202.207, 173.194.203.207, ...\n",
            "Connecting to storage.googleapis.com (storage.googleapis.com)|172.253.117.207|:443... connected.\n",
            "HTTP request sent, awaiting response... 200 OK\n",
            "Length: 68606236 (65M) [application/zip]\n",
            "Saving to: ‘/tmp/cats_and_dogs_filtered.zip’\n",
            "\n",
            "/tmp/cats_and_dogs_ 100%[===================>]  65.43M   172MB/s    in 0.4s    \n",
            "\n",
            "2024-11-02 03:01:24 (172 MB/s) - ‘/tmp/cats_and_dogs_filtered.zip’ saved [68606236/68606236]\n",
            "\n"
          ]
        }
      ],
      "source": [
        "!wget --no-check-certificate \\\n",
        "    https://storage.googleapis.com/mledu-datasets/cats_and_dogs_filtered.zip \\\n",
        "    -O /tmp/cats_and_dogs_filtered.zip\n",
        "\n",
        "import os\n",
        "import zipfile\n",
        "import matplotlib.pyplot as plt\n",
        "import numpy as np\n",
        "import PIL\n",
        "import tensorflow as tf\n",
        "from tensorflow import keras\n",
        "from tensorflow.keras import layers\n",
        "from tensorflow.python.keras.layers import Dense, Flatten\n",
        "from tensorflow.keras.models import Sequential\n",
        "from tensorflow.keras.optimizers import Adam\n",
        "\n",
        "local_zip = '/tmp/cats_and_dogs_filtered.zip'\n",
        "zip_ref = zipfile.ZipFile(local_zip, 'r')\n",
        "zip_ref.extractall('/tmp')\n",
        "zip_ref.close()\n",
        "\n",
        "base_dir = '/tmp/cats_and_dogs_filtered'\n",
        "train_dir = os.path.join(base_dir, 'train')\n",
        "validation_dir = os.path.join(base_dir, 'validation')"
      ]
    },
    {
      "cell_type": "markdown",
      "source": [
        "## Reading the Data into arrays"
      ],
      "metadata": {
        "id": "xgEKdtTjV8Sx"
      }
    },
    {
      "cell_type": "code",
      "source": [
        "from PIL import Image\n",
        "import numpy as np\n",
        "x_train = []\n",
        "y_train = []\n",
        "x_test = []\n",
        "y_test = []\n",
        "\n",
        "cats_dir = os.path.join(train_dir + \"/cats\")\n",
        "dogs_dir = os.path.join(train_dir + \"/dogs\")\n",
        "i = 0\n",
        "while i < 800:\n",
        "  if i % 2 == 0:\n",
        "    im = Image.open(os.path.join(cats_dir, os.listdir(cats_dir)[i])).convert(\"RGB\")\n",
        "    im_resized = im.resize((150, 150))\n",
        "    x_train.append(np.array(im_resized))\n",
        "    y_train.append(1)\n",
        "  else:\n",
        "    im = Image.open(os.path.join(dogs_dir, os.listdir(dogs_dir)[i])).convert(\"RGB\")\n",
        "\n",
        "    x_train.append(np.array(im_resized))\n",
        "    y_train.append(0)\n",
        "  i += 1\n",
        "\n",
        "while i < 1000:\n",
        "  if i % 2 == 0:\n",
        "    im = Image.open(os.path.join(cats_dir, os.listdir(cats_dir)[i])).convert(\"RGB\")\n",
        "    im_resized = im.resize((150, 150))\n",
        "    x_test.append(np.array(im_resized))\n",
        "    y_test.append(1)\n",
        "  else:\n",
        "    im = Image.open(os.path.join(dogs_dir, os.listdir(dogs_dir)[i])).convert(\"RGB\")\n",
        "\n",
        "    x_test.append(np.array(im_resized))\n",
        "    y_test.append(0)\n",
        "  i += 1"
      ],
      "metadata": {
        "id": "QOhkfFT1K4o1"
      },
      "execution_count": 4,
      "outputs": []
    },
    {
      "cell_type": "markdown",
      "source": [
        "## Beginning to define the model (this is where you come in, I loaded the pretrained model for you)"
      ],
      "metadata": {
        "id": "t7R64c0tV-zh"
      }
    },
    {
      "cell_type": "code",
      "source": [
        "import tensorflow as tf\n",
        "\n",
        "pretrained_model = tf.keras.applications.ResNet50(\n",
        "    include_top=False,\n",
        "    input_shape=(150, 150, 3),\n",
        "    pooling='avg',\n",
        "    classes=2,\n",
        "    weights='imagenet'\n",
        ")\n",
        "\n",
        "for layer in pretrained_model.layers:\n",
        "  layer.trainable = False\n",
        "\n",
        "final_model = tf.keras.models.Sequential()\n",
        "final_model.add(pretrained_model)\n",
        "final_model.add(tf.keras.layers.Flatten())\n",
        "final_model.add(tf.keras.layers.Dense(256, activation = \"relu\"))\n",
        "final_model.add(tf.keras.layers.Dense(2, activation = \"sigmoid\"))\n",
        "\n",
        "final_model.compile(optimizer = tf.keras.optimizers.Adam(learning_rate = 0.001),\n",
        "                     loss = \"binary_crossentropy\",\n",
        "                     metrics = [\"accuracy\"])\n",
        "\n",
        "img_height, img_width = 150, 150\n",
        "batch_size = 32\n",
        "train = tf.keras.preprocessing.image_dataset_from_directory(\n",
        "    train_dir,\n",
        "    seed = 123,\n",
        "    label_mode = \"categorical\",\n",
        "    image_size = (img_height, img_width),\n",
        "    batch_size = batch_size\n",
        ")\n",
        "\n",
        "validation = tf.keras.preprocessing.image_dataset_from_directory(\n",
        "    validation_dir,\n",
        "    seed = 123,\n",
        "    label_mode = \"categorical\",\n",
        "    image_size = (img_height, img_width),\n",
        "    batch_size = batch_size\n",
        ")\n",
        "\n",
        "epochs = 3\n",
        "history = final_model.fit(\n",
        "    train,\n",
        "    validation_data = validation,\n",
        "    epochs = epochs\n",
        ")"
      ],
      "metadata": {
        "id": "7zGbGnknK6uG",
        "colab": {
          "base_uri": "https://localhost:8080/"
        },
        "outputId": "d7545003-6fd7-415e-d795-9cb2a92180f1"
      },
      "execution_count": 7,
      "outputs": [
        {
          "output_type": "stream",
          "name": "stdout",
          "text": [
            "Found 2000 files belonging to 2 classes.\n",
            "Found 1000 files belonging to 2 classes.\n",
            "Epoch 1/3\n",
            "\u001b[1m63/63\u001b[0m \u001b[32m━━━━━━━━━━━━━━━━━━━━\u001b[0m\u001b[37m\u001b[0m \u001b[1m334s\u001b[0m 5s/step - accuracy: 0.8684 - loss: 0.2758 - val_accuracy: 0.9570 - val_loss: 0.1034\n",
            "Epoch 2/3\n",
            "\u001b[1m63/63\u001b[0m \u001b[32m━━━━━━━━━━━━━━━━━━━━\u001b[0m\u001b[37m\u001b[0m \u001b[1m328s\u001b[0m 4s/step - accuracy: 0.9780 - loss: 0.0619 - val_accuracy: 0.9610 - val_loss: 0.1124\n",
            "Epoch 3/3\n",
            "\u001b[1m63/63\u001b[0m \u001b[32m━━━━━━━━━━━━━━━━━━━━\u001b[0m\u001b[37m\u001b[0m \u001b[1m326s\u001b[0m 5s/step - accuracy: 0.9889 - loss: 0.0365 - val_accuracy: 0.9430 - val_loss: 0.1484\n"
          ]
        }
      ]
    },
    {
      "cell_type": "code",
      "source": [
        "from sre_constants import SUCCESS\n",
        "probabilities = final_model.predict(x_test)\n",
        "predictions = np.argmax(probabilities, axis=1)\n",
        "successes = 0\n",
        "fails = 0\n",
        "for index in range(len(probabilities)):\n",
        "  if predictions[index] == y_test[index]:\n",
        "    successes += 1\n",
        "  else:\n",
        "    fails += 1\n",
        "\n",
        "print(\"Test Data Accuracy: \", successes * 100 / (successes + fails), \"%\")"
      ],
      "metadata": {
        "colab": {
          "base_uri": "https://localhost:8080/",
          "height": 720
        },
        "id": "KrOpXEmD1C61",
        "outputId": "ec15704b-b5af-4572-bca0-06d5529ec041"
      },
      "execution_count": 8,
      "outputs": [
        {
          "output_type": "error",
          "ename": "ValueError",
          "evalue": "Exception encountered when calling Sequential.call().\n\n\u001b[1mInvalid input shape for input Tensor(\"sequential_4_1/Cast:0\", shape=(32, 150, 3), dtype=float32). Expected shape (None, 150, 150, 3), but input has incompatible shape (32, 150, 3)\u001b[0m\n\nArguments received by Sequential.call():\n  • inputs=('tf.Tensor(shape=(32, 150, 3), dtype=uint8)', 'tf.Tensor(shape=(32, 150, 3), dtype=uint8)', 'tf.Tensor(shape=(32, 150, 3), dtype=uint8)', 'tf.Tensor(shape=(32, 150, 3), dtype=uint8)', 'tf.Tensor(shape=(32, 150, 3), dtype=uint8)', 'tf.Tensor(shape=(32, 150, 3), dtype=uint8)', 'tf.Tensor(shape=(32, 150, 3), dtype=uint8)', 'tf.Tensor(shape=(32, 150, 3), dtype=uint8)', 'tf.Tensor(shape=(32, 150, 3), dtype=uint8)', 'tf.Tensor(shape=(32, 150, 3), dtype=uint8)', 'tf.Tensor(shape=(32, 150, 3), dtype=uint8)', 'tf.Tensor(shape=(32, 150, 3), dtype=uint8)', 'tf.Tensor(shape=(32, 150, 3), dtype=uint8)', 'tf.Tensor(shape=(32, 150, 3), dtype=uint8)', 'tf.Tensor(shape=(32, 150, 3), dtype=uint8)', 'tf.Tensor(shape=(32, 150, 3), dtype=uint8)', 'tf.Tensor(shape=(32, 150, 3), dtype=uint8)', 'tf.Tensor(shape=(32, 150, 3), dtype=uint8)', 'tf.Tensor(shape=(32, 150, 3), dtype=uint8)', 'tf.Tensor(shape=(32, 150, 3), dtype=uint8)', 'tf.Tensor(shape=(32, 150, 3), dtype=uint8)', 'tf.Tensor(shape=(32, 150, 3), dtype=uint8)', 'tf.Tensor(shape=(32, 150, 3), dtype=uint8)', 'tf.Tensor(shape=(32, 150, 3), dtype=uint8)', 'tf.Tensor(shape=(32, 150, 3), dtype=uint8)', 'tf.Tensor(shape=(32, 150, 3), dtype=uint8)', 'tf.Tensor(shape=(32, 150, 3), dtype=uint8)', 'tf.Tensor(shape=(32, 150, 3), dtype=uint8)', 'tf.Tensor(shape=(32, 150, 3), dtype=uint8)', 'tf.Tensor(shape=(32, 150, 3), dtype=uint8)', 'tf.Tensor(shape=(32, 150, 3), dtype=uint8)', 'tf.Tensor(shape=(32, 150, 3), dtype=uint8)', 'tf.Tensor(shape=(32, 150, 3), dtype=uint8)', 'tf.Tensor(shape=(32, 150, 3), dtype=uint8)', 'tf.Tensor(shape=(32, 150, 3), dtype=uint8)', 'tf.Tensor(shape=(32, 150, 3), dtype=uint8)', 'tf.Tensor(shape=(32, 150, 3), dtype=uint8)', 'tf.Tensor(shape=(32, 150, 3), dtype=uint8)', 'tf.Tensor(shape=(32, 150, 3), dtype=uint8)', 'tf.Tensor(shape=(32, 150, 3), dtype=uint8)', 'tf.Tensor(shape=(32, 150, 3), dtype=uint8)', 'tf.Tensor(shape=(32, 150, 3), dtype=uint8)', 'tf.Tensor(shape=(32, 150, 3), dtype=uint8)', 'tf.Tensor(shape=(32, 150, 3), dtype=uint8)', 'tf.Tensor(shape=(32, 150, 3), dtype=uint8)', 'tf.Tensor(shape=(32, 150, 3), dtype=uint8)', 'tf.Tensor(shape=(32, 150, 3), dtype=uint8)', 'tf.Tensor(shape=(32, 150, 3), dtype=uint8)', 'tf.Tensor(shape=(32, 150, 3), dtype=uint8)', 'tf.Tensor(shape=(32, 150, 3), dtype=uint8)', 'tf.Tensor(shape=(32, 150, 3), dtype=uint8)', 'tf.Tensor(shape=(32, 150, 3), dtype=uint8)', 'tf.Tensor(shape=(32, 150, 3), dtype=uint8)', 'tf.Tensor(shape=(32, 150, 3), dtype=uint8)', 'tf.Tensor(shape=(32, 150, 3), dtype=uint8)', 'tf.Tensor(shape=(32, 150, 3), dtype=uint8)', 'tf.Tensor(shape=(32, 150, 3), dtype=uint8)', 'tf.Tensor(shape=(32, 150, 3), dtype=uint8)', 'tf.Tensor(shape=(32, 150, 3), dtype=uint8)', 'tf.Tensor(shape=(32, 150, 3), dtype=uint8)', 'tf.Tensor(shape=(32, 150, 3), dtype=uint8)', 'tf.Tensor(shape=(32, 150, 3), dtype=uint8)', 'tf.Tensor(shape=(32, 150, 3), dtype=uint8)', 'tf.Tensor(shape=(32, 150, 3), dtype=uint8)', 'tf.Tensor(shape=(32, 150, 3), dtype=uint8)', 'tf.Tensor(shape=(32, 150, 3), dtype=uint8)', 'tf.Tensor(shape=(32, 150, 3), dtype=uint8)', 'tf.Tensor(shape=(32, 150, 3), dtype=uint8)', 'tf.Tensor(shape=(32, 150, 3), dtype=uint8)', 'tf.Tensor(shape=(32, 150, 3), dtype=uint8)', 'tf.Tensor(shape=(32, 150, 3), dtype=uint8)', 'tf.Tensor(shape=(32, 150, 3), dtype=uint8)', 'tf.Tensor(shape=(32, 150, 3), dtype=uint8)', 'tf.Tensor(shape=(32, 150, 3), dtype=uint8)', 'tf.Tensor(shape=(32, 150, 3), dtype=uint8)', 'tf.Tensor(shape=(32, 150, 3), dtype=uint8)', 'tf.Tensor(shape=(32, 150, 3), dtype=uint8)', 'tf.Tensor(shape=(32, 150, 3), dtype=uint8)', 'tf.Tensor(shape=(32, 150, 3), dtype=uint8)', 'tf.Tensor(shape=(32, 150, 3), dtype=uint8)', 'tf.Tensor(shape=(32, 150, 3), dtype=uint8)', 'tf.Tensor(shape=(32, 150, 3), dtype=uint8)', 'tf.Tensor(shape=(32, 150, 3), dtype=uint8)', 'tf.Tensor(shape=(32, 150, 3), dtype=uint8)', 'tf.Tensor(shape=(32, 150, 3), dtype=uint8)', 'tf.Tensor(shape=(32, 150, 3), dtype=uint8)', 'tf.Tensor(shape=(32, 150, 3), dtype=uint8)', 'tf.Tensor(shape=(32, 150, 3), dtype=uint8)', 'tf.Tensor(shape=(32, 150, 3), dtype=uint8)', 'tf.Tensor(shape=(32, 150, 3), dtype=uint8)', 'tf.Tensor(shape=(32, 150, 3), dtype=uint8)', 'tf.Tensor(shape=(32, 150, 3), dtype=uint8)', 'tf.Tensor(shape=(32, 150, 3), dtype=uint8)', 'tf.Tensor(shape=(32, 150, 3), dtype=uint8)', 'tf.Tensor(shape=(32, 150, 3), dtype=uint8)', 'tf.Tensor(shape=(32, 150, 3), dtype=uint8)', 'tf.Tensor(shape=(32, 150, 3), dtype=uint8)', 'tf.Tensor(shape=(32, 150, 3), dtype=uint8)', 'tf.Tensor(shape=(32, 150, 3), dtype=uint8)', 'tf.Tensor(shape=(32, 150, 3), dtype=uint8)', 'tf.Tensor(shape=(32, 150, 3), dtype=uint8)', 'tf.Tensor(shape=(32, 150, 3), dtype=uint8)', 'tf.Tensor(shape=(32, 150, 3), dtype=uint8)', 'tf.Tensor(shape=(32, 150, 3), dtype=uint8)', 'tf.Tensor(shape=(32, 150, 3), dtype=uint8)', 'tf.Tensor(shape=(32, 150, 3), dtype=uint8)', 'tf.Tensor(shape=(32, 150, 3), dtype=uint8)', 'tf.Tensor(shape=(32, 150, 3), dtype=uint8)', 'tf.Tensor(shape=(32, 150, 3), dtype=uint8)', 'tf.Tensor(shape=(32, 150, 3), dtype=uint8)', 'tf.Tensor(shape=(32, 150, 3), dtype=uint8)', 'tf.Tensor(shape=(32, 150, 3), dtype=uint8)', 'tf.Tensor(shape=(32, 150, 3), dtype=uint8)', 'tf.Tensor(shape=(32, 150, 3), dtype=uint8)', 'tf.Tensor(shape=(32, 150, 3), dtype=uint8)', 'tf.Tensor(shape=(32, 150, 3), dtype=uint8)', 'tf.Tensor(shape=(32, 150, 3), dtype=uint8)', 'tf.Tensor(shape=(32, 150, 3), dtype=uint8)', 'tf.Tensor(shape=(32, 150, 3), dtype=uint8)', 'tf.Tensor(shape=(32, 150, 3), dtype=uint8)', 'tf.Tensor(shape=(32, 150, 3), dtype=uint8)', 'tf.Tensor(shape=(32, 150, 3), dtype=uint8)', 'tf.Tensor(shape=(32, 150, 3), dtype=uint8)', 'tf.Tensor(shape=(32, 150, 3), dtype=uint8)', 'tf.Tensor(shape=(32, 150, 3), dtype=uint8)', 'tf.Tensor(shape=(32, 150, 3), dtype=uint8)', 'tf.Tensor(shape=(32, 150, 3), dtype=uint8)', 'tf.Tensor(shape=(32, 150, 3), dtype=uint8)', 'tf.Tensor(shape=(32, 150, 3), dtype=uint8)', 'tf.Tensor(shape=(32, 150, 3), dtype=uint8)', 'tf.Tensor(shape=(32, 150, 3), dtype=uint8)', 'tf.Tensor(shape=(32, 150, 3), dtype=uint8)', 'tf.Tensor(shape=(32, 150, 3), dtype=uint8)', 'tf.Tensor(shape=(32, 150, 3), dtype=uint8)', 'tf.Tensor(shape=(32, 150, 3), dtype=uint8)', 'tf.Tensor(shape=(32, 150, 3), dtype=uint8)', 'tf.Tensor(shape=(32, 150, 3), dtype=uint8)', 'tf.Tensor(shape=(32, 150, 3), dtype=uint8)', 'tf.Tensor(shape=(32, 150, 3), dtype=uint8)', 'tf.Tensor(shape=(32, 150, 3), dtype=uint8)', 'tf.Tensor(shape=(32, 150, 3), dtype=uint8)', 'tf.Tensor(shape=(32, 150, 3), dtype=uint8)', 'tf.Tensor(shape=(32, 150, 3), dtype=uint8)', 'tf.Tensor(shape=(32, 150, 3), dtype=uint8)', 'tf.Tensor(shape=(32, 150, 3), dtype=uint8)', 'tf.Tensor(shape=(32, 150, 3), dtype=uint8)', 'tf.Tensor(shape=(32, 150, 3), dtype=uint8)', 'tf.Tensor(shape=(32, 150, 3), dtype=uint8)', 'tf.Tensor(shape=(32, 150, 3), dtype=uint8)', 'tf.Tensor(shape=(32, 150, 3), dtype=uint8)', 'tf.Tensor(shape=(32, 150, 3), dtype=uint8)', 'tf.Tensor(shape=(32, 150, 3), dtype=uint8)', 'tf.Tensor(shape=(32, 150, 3), dtype=uint8)', 'tf.Tensor(shape=(32, 150, 3), dtype=uint8)', 'tf.Tensor(shape=(32, 150, 3), dtype=uint8)', 'tf.Tensor(shape=(32, 150, 3), dtype=uint8)', 'tf.Tensor(shape=(32, 150, 3), dtype=uint8)', 'tf.Tensor(shape=(32, 150, 3), dtype=uint8)', 'tf.Tensor(shape=(32, 150, 3), dtype=uint8)', 'tf.Tensor(shape=(32, 150, 3), dtype=uint8)', 'tf.Tensor(shape=(32, 150, 3), dtype=uint8)', 'tf.Tensor(shape=(32, 150, 3), dtype=uint8)', 'tf.Tensor(shape=(32, 150, 3), dtype=uint8)', 'tf.Tensor(shape=(32, 150, 3), dtype=uint8)', 'tf.Tensor(shape=(32, 150, 3), dtype=uint8)', 'tf.Tensor(shape=(32, 150, 3), dtype=uint8)', 'tf.Tensor(shape=(32, 150, 3), dtype=uint8)', 'tf.Tensor(shape=(32, 150, 3), dtype=uint8)', 'tf.Tensor(shape=(32, 150, 3), dtype=uint8)', 'tf.Tensor(shape=(32, 150, 3), dtype=uint8)', 'tf.Tensor(shape=(32, 150, 3), dtype=uint8)', 'tf.Tensor(shape=(32, 150, 3), dtype=uint8)', 'tf.Tensor(shape=(32, 150, 3), dtype=uint8)', 'tf.Tensor(shape=(32, 150, 3), dtype=uint8)', 'tf.Tensor(shape=(32, 150, 3), dtype=uint8)', 'tf.Tensor(shape=(32, 150, 3), dtype=uint8)', 'tf.Tensor(shape=(32, 150, 3), dtype=uint8)', 'tf.Tensor(shape=(32, 150, 3), dtype=uint8)', 'tf.Tensor(shape=(32, 150, 3), dtype=uint8)', 'tf.Tensor(shape=(32, 150, 3), dtype=uint8)', 'tf.Tensor(shape=(32, 150, 3), dtype=uint8)', 'tf.Tensor(shape=(32, 150, 3), dtype=uint8)', 'tf.Tensor(shape=(32, 150, 3), dtype=uint8)', 'tf.Tensor(shape=(32, 150, 3), dtype=uint8)', 'tf.Tensor(shape=(32, 150, 3), dtype=uint8)', 'tf.Tensor(shape=(32, 150, 3), dtype=uint8)', 'tf.Tensor(shape=(32, 150, 3), dtype=uint8)', 'tf.Tensor(shape=(32, 150, 3), dtype=uint8)', 'tf.Tensor(shape=(32, 150, 3), dtype=uint8)', 'tf.Tensor(shape=(32, 150, 3), dtype=uint8)', 'tf.Tensor(shape=(32, 150, 3), dtype=uint8)', 'tf.Tensor(shape=(32, 150, 3), dtype=uint8)', 'tf.Tensor(shape=(32, 150, 3), dtype=uint8)', 'tf.Tensor(shape=(32, 150, 3), dtype=uint8)', 'tf.Tensor(shape=(32, 150, 3), dtype=uint8)', 'tf.Tensor(shape=(32, 150, 3), dtype=uint8)', 'tf.Tensor(shape=(32, 150, 3), dtype=uint8)', 'tf.Tensor(shape=(32, 150, 3), dtype=uint8)', 'tf.Tensor(shape=(32, 150, 3), dtype=uint8)', 'tf.Tensor(shape=(32, 150, 3), dtype=uint8)')\n  • training=False\n  • mask=('None', 'None', 'None', 'None', 'None', 'None', 'None', 'None', 'None', 'None', 'None', 'None', 'None', 'None', 'None', 'None', 'None', 'None', 'None', 'None', 'None', 'None', 'None', 'None', 'None', 'None', 'None', 'None', 'None', 'None', 'None', 'None', 'None', 'None', 'None', 'None', 'None', 'None', 'None', 'None', 'None', 'None', 'None', 'None', 'None', 'None', 'None', 'None', 'None', 'None', 'None', 'None', 'None', 'None', 'None', 'None', 'None', 'None', 'None', 'None', 'None', 'None', 'None', 'None', 'None', 'None', 'None', 'None', 'None', 'None', 'None', 'None', 'None', 'None', 'None', 'None', 'None', 'None', 'None', 'None', 'None', 'None', 'None', 'None', 'None', 'None', 'None', 'None', 'None', 'None', 'None', 'None', 'None', 'None', 'None', 'None', 'None', 'None', 'None', 'None', 'None', 'None', 'None', 'None', 'None', 'None', 'None', 'None', 'None', 'None', 'None', 'None', 'None', 'None', 'None', 'None', 'None', 'None', 'None', 'None', 'None', 'None', 'None', 'None', 'None', 'None', 'None', 'None', 'None', 'None', 'None', 'None', 'None', 'None', 'None', 'None', 'None', 'None', 'None', 'None', 'None', 'None', 'None', 'None', 'None', 'None', 'None', 'None', 'None', 'None', 'None', 'None', 'None', 'None', 'None', 'None', 'None', 'None', 'None', 'None', 'None', 'None', 'None', 'None', 'None', 'None', 'None', 'None', 'None', 'None', 'None', 'None', 'None', 'None', 'None', 'None', 'None', 'None', 'None', 'None', 'None', 'None', 'None', 'None', 'None', 'None', 'None', 'None', 'None', 'None', 'None', 'None', 'None', 'None', 'None', 'None', 'None', 'None', 'None', 'None')",
          "traceback": [
            "\u001b[0;31m---------------------------------------------------------------------------\u001b[0m",
            "\u001b[0;31mValueError\u001b[0m                                Traceback (most recent call last)",
            "\u001b[0;32m<ipython-input-8-7017a794abff>\u001b[0m in \u001b[0;36m<cell line: 2>\u001b[0;34m()\u001b[0m\n\u001b[1;32m      1\u001b[0m \u001b[0;32mfrom\u001b[0m \u001b[0msre_constants\u001b[0m \u001b[0;32mimport\u001b[0m \u001b[0mSUCCESS\u001b[0m\u001b[0;34m\u001b[0m\u001b[0;34m\u001b[0m\u001b[0m\n\u001b[0;32m----> 2\u001b[0;31m \u001b[0mprobabilities\u001b[0m \u001b[0;34m=\u001b[0m \u001b[0mfinal_model\u001b[0m\u001b[0;34m.\u001b[0m\u001b[0mpredict\u001b[0m\u001b[0;34m(\u001b[0m\u001b[0mx_test\u001b[0m\u001b[0;34m)\u001b[0m\u001b[0;34m\u001b[0m\u001b[0;34m\u001b[0m\u001b[0m\n\u001b[0m\u001b[1;32m      3\u001b[0m \u001b[0mpredictions\u001b[0m \u001b[0;34m=\u001b[0m \u001b[0mnp\u001b[0m\u001b[0;34m.\u001b[0m\u001b[0margmax\u001b[0m\u001b[0;34m(\u001b[0m\u001b[0mprobabilities\u001b[0m\u001b[0;34m,\u001b[0m \u001b[0maxis\u001b[0m\u001b[0;34m=\u001b[0m\u001b[0;36m1\u001b[0m\u001b[0;34m)\u001b[0m\u001b[0;34m\u001b[0m\u001b[0;34m\u001b[0m\u001b[0m\n\u001b[1;32m      4\u001b[0m \u001b[0msuccesses\u001b[0m \u001b[0;34m=\u001b[0m \u001b[0;36m0\u001b[0m\u001b[0;34m\u001b[0m\u001b[0;34m\u001b[0m\u001b[0m\n\u001b[1;32m      5\u001b[0m \u001b[0mfails\u001b[0m \u001b[0;34m=\u001b[0m \u001b[0;36m0\u001b[0m\u001b[0;34m\u001b[0m\u001b[0;34m\u001b[0m\u001b[0m\n",
            "\u001b[0;32m/usr/local/lib/python3.10/dist-packages/keras/src/utils/traceback_utils.py\u001b[0m in \u001b[0;36merror_handler\u001b[0;34m(*args, **kwargs)\u001b[0m\n\u001b[1;32m    120\u001b[0m             \u001b[0;31m# To get the full stack trace, call:\u001b[0m\u001b[0;34m\u001b[0m\u001b[0;34m\u001b[0m\u001b[0m\n\u001b[1;32m    121\u001b[0m             \u001b[0;31m# `keras.config.disable_traceback_filtering()`\u001b[0m\u001b[0;34m\u001b[0m\u001b[0;34m\u001b[0m\u001b[0m\n\u001b[0;32m--> 122\u001b[0;31m             \u001b[0;32mraise\u001b[0m \u001b[0me\u001b[0m\u001b[0;34m.\u001b[0m\u001b[0mwith_traceback\u001b[0m\u001b[0;34m(\u001b[0m\u001b[0mfiltered_tb\u001b[0m\u001b[0;34m)\u001b[0m \u001b[0;32mfrom\u001b[0m \u001b[0;32mNone\u001b[0m\u001b[0;34m\u001b[0m\u001b[0;34m\u001b[0m\u001b[0m\n\u001b[0m\u001b[1;32m    123\u001b[0m         \u001b[0;32mfinally\u001b[0m\u001b[0;34m:\u001b[0m\u001b[0;34m\u001b[0m\u001b[0;34m\u001b[0m\u001b[0m\n\u001b[1;32m    124\u001b[0m             \u001b[0;32mdel\u001b[0m \u001b[0mfiltered_tb\u001b[0m\u001b[0;34m\u001b[0m\u001b[0;34m\u001b[0m\u001b[0m\n",
            "\u001b[0;32m/usr/local/lib/python3.10/dist-packages/keras/src/models/functional.py\u001b[0m in \u001b[0;36m_adjust_input_rank\u001b[0;34m(self, flat_inputs)\u001b[0m\n\u001b[1;32m    242\u001b[0m                     \u001b[0madjusted\u001b[0m\u001b[0;34m.\u001b[0m\u001b[0mappend\u001b[0m\u001b[0;34m(\u001b[0m\u001b[0mops\u001b[0m\u001b[0;34m.\u001b[0m\u001b[0mexpand_dims\u001b[0m\u001b[0;34m(\u001b[0m\u001b[0mx\u001b[0m\u001b[0;34m,\u001b[0m \u001b[0maxis\u001b[0m\u001b[0;34m=\u001b[0m\u001b[0;34m-\u001b[0m\u001b[0;36m1\u001b[0m\u001b[0;34m)\u001b[0m\u001b[0;34m)\u001b[0m\u001b[0;34m\u001b[0m\u001b[0;34m\u001b[0m\u001b[0m\n\u001b[1;32m    243\u001b[0m                     \u001b[0;32mcontinue\u001b[0m\u001b[0;34m\u001b[0m\u001b[0;34m\u001b[0m\u001b[0m\n\u001b[0;32m--> 244\u001b[0;31m             raise ValueError(\n\u001b[0m\u001b[1;32m    245\u001b[0m                 \u001b[0;34mf\"Invalid input shape for input {x}. Expected shape \"\u001b[0m\u001b[0;34m\u001b[0m\u001b[0;34m\u001b[0m\u001b[0m\n\u001b[1;32m    246\u001b[0m                 \u001b[0;34mf\"{ref_shape}, but input has incompatible shape {x.shape}\"\u001b[0m\u001b[0;34m\u001b[0m\u001b[0;34m\u001b[0m\u001b[0m\n",
            "\u001b[0;31mValueError\u001b[0m: Exception encountered when calling Sequential.call().\n\n\u001b[1mInvalid input shape for input Tensor(\"sequential_4_1/Cast:0\", shape=(32, 150, 3), dtype=float32). Expected shape (None, 150, 150, 3), but input has incompatible shape (32, 150, 3)\u001b[0m\n\nArguments received by Sequential.call():\n  • inputs=('tf.Tensor(shape=(32, 150, 3), dtype=uint8)', 'tf.Tensor(shape=(32, 150, 3), dtype=uint8)', 'tf.Tensor(shape=(32, 150, 3), dtype=uint8)', 'tf.Tensor(shape=(32, 150, 3), dtype=uint8)', 'tf.Tensor(shape=(32, 150, 3), dtype=uint8)', 'tf.Tensor(shape=(32, 150, 3), dtype=uint8)', 'tf.Tensor(shape=(32, 150, 3), dtype=uint8)', 'tf.Tensor(shape=(32, 150, 3), dtype=uint8)', 'tf.Tensor(shape=(32, 150, 3), dtype=uint8)', 'tf.Tensor(shape=(32, 150, 3), dtype=uint8)', 'tf.Tensor(shape=(32, 150, 3), dtype=uint8)', 'tf.Tensor(shape=(32, 150, 3), dtype=uint8)', 'tf.Tensor(shape=(32, 150, 3), dtype=uint8)', 'tf.Tensor(shape=(32, 150, 3), dtype=uint8)', 'tf.Tensor(shape=(32, 150, 3), dtype=uint8)', 'tf.Tensor(shape=(32, 150, 3), dtype=uint8)', 'tf.Tensor(shape=(32, 150, 3), dtype=uint8)', 'tf.Tensor(shape=(32, 150, 3), dtype=uint8)', 'tf.Tensor(shape=(32, 150, 3), dtype=uint8)', 'tf.Tensor(shape=(32, 150, 3), dtype=uint8)', 'tf.Tensor(shape=(32, 150, 3), dtype=uint8)', 'tf.Tensor(shape=(32, 150, 3), dtype=uint8)', 'tf.Tensor(shape=(32, 150, 3), dtype=uint8)', 'tf.Tensor(shape=(32, 150, 3), dtype=uint8)', 'tf.Tensor(shape=(32, 150, 3), dtype=uint8)', 'tf.Tensor(shape=(32, 150, 3), dtype=uint8)', 'tf.Tensor(shape=(32, 150, 3), dtype=uint8)', 'tf.Tensor(shape=(32, 150, 3), dtype=uint8)', 'tf.Tensor(shape=(32, 150, 3), dtype=uint8)', 'tf.Tensor(shape=(32, 150, 3), dtype=uint8)', 'tf.Tensor(shape=(32, 150, 3), dtype=uint8)', 'tf.Tensor(shape=(32, 150, 3), dtype=uint8)', 'tf.Tensor(sh...\n  • training=False\n  • mask=('None', 'None', 'None', 'None', 'None', 'None', 'None', 'None', 'None', 'None', 'None', 'None', 'None', 'None', 'None', 'None', 'None', 'None', 'None', 'None', 'None', 'None', 'None', 'None', 'None', 'None', 'None', 'None', 'None', 'None', 'None', 'None', 'None', 'None', 'None', 'None', 'None', 'None', 'None', 'None', 'None', 'None', 'None', 'None', 'None', 'None', 'None', 'None', 'None', 'None', 'None', 'None', 'None', 'None', 'None', 'None', 'None', 'None', 'None', 'None', 'None', 'None', 'None', 'None', 'None', 'None', 'None', 'None', 'None', 'None', 'None', 'None', 'None', 'None', 'None', 'None', 'None', 'None', 'None', 'None', 'None', 'None', 'None', 'None', 'None', 'None', 'None', 'None', 'None', 'None', 'None', 'None', 'None', 'None', 'None', 'None', 'None', 'None', 'None', 'None', 'None', 'None', 'None', 'None', 'None', 'None', 'None', 'None', 'None', 'None', 'None', 'None', 'None', 'None', 'None', 'None', 'None', 'None', 'None', 'None', 'None', 'None', 'None', 'None', 'None', 'None', 'None', 'None', 'None', 'None', 'None', 'None', 'None', 'None', 'None', 'None', 'None', 'None', 'None', 'None', 'None', 'None', 'None', 'None', 'None', 'None', 'None', 'None', 'None', 'None', 'None', 'None', 'None', 'None', 'None', 'None', 'None', 'None', 'None', 'None', 'None', 'None', 'None', 'None', 'None', 'None', 'None', 'None', 'None', 'None', 'None', 'None', 'None', 'None', 'None', 'None', 'None', 'None', 'None', 'None', 'None', 'None', 'None', 'None', 'None', 'None',..."
          ]
        }
      ]
    }
  ]
}